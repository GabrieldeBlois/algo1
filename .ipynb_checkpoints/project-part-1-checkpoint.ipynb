{
 "cells": [
  {
   "cell_type": "markdown",
   "metadata": {},
   "source": [
    "# part 1 : the snowplow problem"
   ]
  },
  {
   "cell_type": "markdown",
   "metadata": {},
   "source": [
    "A snowplow must clean the snow in front of 1000 houses. The position of each house is represented by a float number (not necessary positive). Initially, the snow- plow is in 0. The traveling time of the snowplow is equivalent to the distance that it went through since the beginning of the day. If there are several houses at the same point, it does not take a longer time to clean the snow (the snow is cleaned as soon as the snowplow has passed). However, since the positions of the houses are represented as floats, this should not happen often."
   ]
  },
  {
   "cell_type": "markdown",
   "metadata": {},
   "source": [
    "The snowplow must minimize the average waiting time before the snow is clea- ned in front of the houses, from the point of view of the houses."
   ]
  },
  {
   "cell_type": "markdown",
   "metadata": {},
   "source": [
    "Conventions : You must write a function that takes has input the positions of the 1000 houses, and outputs the positions of the houses, sorted in the same order as they are cleaned."
   ]
  },
  {
   "cell_type": "code",
   "execution_count": 1,
   "metadata": {},
   "outputs": [],
   "source": [
    "# for inline plots in jupyter\n",
    "%matplotlib inline\n",
    "# import matplotlib\n",
    "import matplotlib.pyplot as plt\n",
    "# for latex equations\n",
    "from IPython.display import Math, Latex\n",
    "# for displaying images\n",
    "from IPython.core.display import Image\n",
    "\n",
    "import pandas as pd\n",
    "import numpy as np"
   ]
  },
  {
   "cell_type": "code",
   "execution_count": 2,
   "metadata": {},
   "outputs": [
    {
     "name": "stdout",
     "output_type": "stream",
     "text": [
      "WARNING: pip is being invoked by an old script wrapper. This will fail in a future version of pip.\n",
      "Please see https://github.com/pypa/pip/issues/5599 for advice on fixing the underlying issue.\n",
      "To avoid this problem you can invoke Python with '-m pip' instead of running pip directly.\n",
      "Defaulting to user installation because normal site-packages is not writeable\n",
      "Requirement already satisfied: seaborn in /Users/gabrieldeblois/Library/Python/3.7/lib/python/site-packages (0.10.0)\n",
      "Requirement already satisfied: numpy>=1.13.3 in /Users/gabrieldeblois/Library/Python/3.7/lib/python/site-packages (from seaborn) (1.18.1)\n",
      "Requirement already satisfied: matplotlib>=2.1.2 in /Users/gabrieldeblois/Library/Python/3.7/lib/python/site-packages (from seaborn) (3.2.0)\n",
      "Requirement already satisfied: pandas>=0.22.0 in /Users/gabrieldeblois/Library/Python/3.7/lib/python/site-packages (from seaborn) (1.0.1)\n",
      "Requirement already satisfied: scipy>=1.0.1 in /Users/gabrieldeblois/Library/Python/3.7/lib/python/site-packages (from seaborn) (1.4.1)\n",
      "Requirement already satisfied: python-dateutil>=2.1 in /Users/gabrieldeblois/Library/Python/3.7/lib/python/site-packages (from matplotlib>=2.1.2->seaborn) (2.8.1)\n",
      "Requirement already satisfied: pyparsing!=2.0.4,!=2.1.2,!=2.1.6,>=2.0.1 in /Users/gabrieldeblois/Library/Python/3.7/lib/python/site-packages (from matplotlib>=2.1.2->seaborn) (2.4.6)\n",
      "Requirement already satisfied: cycler>=0.10 in /Users/gabrieldeblois/Library/Python/3.7/lib/python/site-packages (from matplotlib>=2.1.2->seaborn) (0.10.0)\n",
      "Requirement already satisfied: kiwisolver>=1.0.1 in /Users/gabrieldeblois/Library/Python/3.7/lib/python/site-packages (from matplotlib>=2.1.2->seaborn) (1.1.0)\n",
      "Requirement already satisfied: pytz>=2017.2 in /Users/gabrieldeblois/Library/Python/3.7/lib/python/site-packages (from pandas>=0.22.0->seaborn) (2019.3)\n",
      "Requirement already satisfied: six>=1.5 in /Users/gabrieldeblois/Library/Python/3.7/lib/python/site-packages (from python-dateutil>=2.1->matplotlib>=2.1.2->seaborn) (1.14.0)\n",
      "Requirement already satisfied: setuptools in /Users/gabrieldeblois/Library/Python/3.7/lib/python/site-packages (from kiwisolver>=1.0.1->matplotlib>=2.1.2->seaborn) (45.1.0)\n"
     ]
    }
   ],
   "source": [
    "!pip3 install seaborn"
   ]
  },
  {
   "cell_type": "code",
   "execution_count": 3,
   "metadata": {},
   "outputs": [],
   "source": [
    "# import seaborn\n",
    "import seaborn as sns\n",
    "# settings for seaborn plotting style\n",
    "sns.set(color_codes=True)\n",
    "# settings for seaborn plot sizes\n",
    "sns.set(rc={'figure.figsize':(5,5)})"
   ]
  },
  {
   "cell_type": "markdown",
   "metadata": {},
   "source": [
    "## Part 1: Generating different test set\n",
    "I'm going to put some random test set into a pandas DataFrame to test my function on different use cases"
   ]
  },
  {
   "cell_type": "code",
   "execution_count": 4,
   "metadata": {},
   "outputs": [],
   "source": [
    "houseDf = pd.DataFrame()"
   ]
  },
  {
   "cell_type": "markdown",
   "metadata": {},
   "source": [
    "### Different random distribution for different test sets\n",
    "\n",
    "The goal in this part is to generate diffenrent sets of houses for testing purposes"
   ]
  },
  {
   "cell_type": "markdown",
   "metadata": {},
   "source": [
    "    1.Uniform Distribution\n",
    "Since any interval of numbers of equal width has an equal probability of being observed, the curve describing the distribution is a rectangle, with constant height across the interval and 0 height elsewhere. Since the area under the curve must be equal to 1, the length of the interval determines the height of the curve. The following figure shows a uniform distribution in interval (a,b). Notice since the area needs to be 1\n",
    ". The height is set to 1/(b−a)\n",
    "."
   ]
  },
  {
   "cell_type": "code",
   "execution_count": 5,
   "metadata": {},
   "outputs": [],
   "source": [
    "# import uniform distribution\n",
    "from scipy.stats import uniform"
   ]
  },
  {
   "cell_type": "code",
   "execution_count": 6,
   "metadata": {},
   "outputs": [],
   "source": [
    "# random numbers from uniform distribution\n",
    "n = 1000\n",
    "start = -100\n",
    "end = 100\n",
    "width = end - start\n",
    "data_uniform = uniform.rvs(size=n, loc = start, scale=width)\n",
    "houseDf['uniform'] = data_uniform"
   ]
  },
  {
   "cell_type": "code",
   "execution_count": 7,
   "metadata": {},
   "outputs": [
    {
     "data": {
      "text/plain": [
       "[Text(0, 0.5, 'Frequency'), Text(0.5, 0, 'Uniform Distribution ')]"
      ]
     },
     "execution_count": 7,
     "metadata": {},
     "output_type": "execute_result"
    },
    {
     "data": {
      "image/png": "[encoded data removed]",
      "text/plain": [
       "<Figure size 360x360 with 1 Axes>"
      ]
     },
     "metadata": {},
     "output_type": "display_data"
    }
   ],
   "source": [
    "ax = sns.distplot(data_uniform,\n",
    "                  bins=100,\n",
    "                  kde=True,\n",
    "                  color='skyblue',\n",
    "                  hist_kws={\"linewidth\": 15,'alpha':1})\n",
    "ax.set(xlabel='Uniform Distribution ', ylabel='Frequency')"
   ]
  },
  {
   "cell_type": "markdown",
   "metadata": {},
   "source": [
    "    2.Normal distribution\n",
    "\n",
    "A normal distribution has a bell-shaped density curve described by its mean μ\n",
    " and standard deviation σ\n",
    ". The density curve is symmetrical, centered about its mean, with its spread determined by its standard deviation showing that data near the mean are more frequent in occurrence than data far from the mean.\n"
   ]
  },
  {
   "cell_type": "code",
   "execution_count": 8,
   "metadata": {},
   "outputs": [],
   "source": [
    "from scipy.stats import norm\n",
    "# generate random numbers from N(0,1)\n",
    "data_normal = np.random.normal(0,1000,1000).tolist()\n",
    "houseDf['normal'] = data_normal\n",
    "#let's try this on a normal distribution\n",
    "houseArray = np.random.normal(0,1000,1000).tolist()"
   ]
  },
  {
   "cell_type": "code",
   "execution_count": 9,
   "metadata": {},
   "outputs": [
    {
     "data": {
      "text/plain": [
       "[Text(0, 0.5, 'Frequency'), Text(0.5, 0, 'Normal Distribution')]"
      ]
     },
     "execution_count": 9,
     "metadata": {},
     "output_type": "execute_result"
    },
    {
     "data": {
      "image/png": "[encoded data removed]",
      "text/plain": [
       "<Figure size 360x360 with 1 Axes>"
      ]
     },
     "metadata": {},
     "output_type": "display_data"
    }
   ],
   "source": [
    "ax = sns.distplot(data_normal,\n",
    "                  bins=100,\n",
    "                  kde=True,\n",
    "                  color='skyblue',\n",
    "                  hist_kws={\"linewidth\": 15,'alpha':1})\n",
    "ax.set(xlabel='Normal Distribution', ylabel='Frequency')"
   ]
  },
  {
   "cell_type": "markdown",
   "metadata": {},
   "source": [
    "    3 Gamma distribution\n",
    "The gamma distribution is a two-parameter family of continuous probability distributions. While it is used rarely in its raw form but other popularly used distributions like exponential, chi-squared, erlang distributions are special cases of the gamma distribution. The gamma distribution can be parameterized in terms of a shape parameter α=k\n",
    " and an inverse scale parameter β=1/θ\n",
    ", called a rate parameter., the symbol Γ(n)\n",
    " is the gamma function and is defined as (n−1)!\n"
   ]
  },
  {
   "cell_type": "code",
   "execution_count": 10,
   "metadata": {},
   "outputs": [],
   "source": [
    "from scipy.stats import gamma\n",
    "data_gamma = gamma.rvs(a=5, size=n)\n",
    "houseDf['gamma'] = data_gamma"
   ]
  },
  {
   "cell_type": "code",
   "execution_count": 11,
   "metadata": {},
   "outputs": [
    {
     "data": {
      "text/plain": [
       "[Text(0, 0.5, 'Frequency'), Text(0.5, 0, 'Gamma Distribution')]"
      ]
     },
     "execution_count": 11,
     "metadata": {},
     "output_type": "execute_result"
    },
    {
     "data": {
      "image/png": "[encoded data removed]",
      "text/plain": [
       "<Figure size 360x360 with 1 Axes>"
      ]
     },
     "metadata": {},
     "output_type": "display_data"
    }
   ],
   "source": [
    "ax = sns.distplot(data_gamma,\n",
    "                  kde=True,\n",
    "                  bins=100,\n",
    "                  color='skyblue',\n",
    "                  hist_kws={\"linewidth\": 15,'alpha':1})\n",
    "ax.set(xlabel='Gamma Distribution', ylabel='Frequency')\n"
   ]
  },
  {
   "cell_type": "markdown",
   "metadata": {},
   "source": [
    "    4. Homemade sinuzoid distribution\n",
    "The goal here is to create multiple sinuozoids to test some sinuzoid houses distribution"
   ]
  },
  {
   "cell_type": "code",
   "execution_count": 12,
   "metadata": {},
   "outputs": [],
   "source": [
    "def generate_sinewave(length = 1000, frequency = 2, amplitude = 100):\n",
    "    x = np.linspace(0, frequency * np.pi, length)\n",
    "    sinewave = np.sin(x) * amplitude\n",
    "    return sinewave"
   ]
  },
  {
   "cell_type": "code",
   "execution_count": 13,
   "metadata": {},
   "outputs": [
    {
     "data": {
      "text/plain": [
       "<matplotlib.legend.Legend at 0x12f9f0750>"
      ]
     },
     "execution_count": 13,
     "metadata": {},
     "output_type": "execute_result"
    },
    {
     "data": {
      "image/png": "[encoded data removed]",
      "text/plain": [
       "<Figure size 360x360 with 1 Axes>"
      ]
     },
     "metadata": {},
     "output_type": "display_data"
    }
   ],
   "source": [
    "houseDf['sinewave_lowf'] = generate_sinewave(frequency = 0.5)\n",
    "houseDf['sinewave_highf'] = generate_sinewave(frequency = 10)\n",
    "houseDf['sinewave_mediumf'] = generate_sinewave(frequency = 2)\n",
    "plt.plot(houseDf['sinewave_lowf'], label='low')\n",
    "plt.plot(houseDf['sinewave_highf'], label='high')\n",
    "plt.plot(houseDf['sinewave_mediumf'], label='medium')\n",
    "plt.legend()"
   ]
  },
  {
   "cell_type": "markdown",
   "metadata": {},
   "source": [
    "## Part 2: algorithm"
   ]
  },
  {
   "cell_type": "markdown",
   "metadata": {},
   "source": [
    "### Time evaluation function\n",
    "First thing first: we must create the function that will evaluate the performance of the algorithms by actually do the snow cleaning :)"
   ]
  },
  {
   "cell_type": "code",
   "execution_count": 14,
   "metadata": {},
   "outputs": [],
   "source": [
    "import math\n",
    "\n",
    "def evaluate(houseArray):\n",
    "    lastPosition = 0\n",
    "    distance = 0\n",
    "    for house in houseArray:\n",
    "        distance += abs(house - lastPosition)\n",
    "        lastPosition = house\n",
    "    return distance\n",
    "\n",
    "def evaluateWaitingAverage(houseArray):\n",
    "    waitingTimes = []\n",
    "    lastPosition = 0\n",
    "    distance = 0\n",
    "    for house in houseArray:\n",
    "        distance += abs(house - lastPosition)\n",
    "        lastPosition = house\n",
    "        waitingTimes.append(distance)\n",
    "    return np.average(waitingTimes)\n",
    "    "
   ]
  },
  {
   "cell_type": "markdown",
   "metadata": {},
   "source": [
    "Now let's test the evaluation function on two cases"
   ]
  },
  {
   "cell_type": "code",
   "execution_count": 15,
   "metadata": {},
   "outputs": [
    {
     "name": "stdout",
     "output_type": "stream",
     "text": [
      "Simple distance evaluation should output 4, output: 4\n",
      "Mean waiting time evaluation should output 2.5, output: 2.5\n"
     ]
    }
   ],
   "source": [
    "# as the cleaner begins at position 0, this should return 4\n",
    "testCaseA = [1, 2, 3, 4]\n",
    "print(f\"Simple distance evaluation should output 4, output: {evaluate(testCaseA)}\")\n",
    "print(f\"Mean waiting time evaluation should output 2.5, output: {evaluateWaitingAverage(testCaseA)}\")"
   ]
  },
  {
   "cell_type": "code",
   "execution_count": 16,
   "metadata": {},
   "outputs": [
    {
     "name": "stdout",
     "output_type": "stream",
     "text": [
      "425\n",
      "Simple distance evaluation should output 425, output: 425\n",
      "Mean waiting time evaluation should output 2.5, output: 292.6666666666667\n"
     ]
    }
   ],
   "source": [
    "print(abs(0 - 150) + abs(-150 - 3) + abs(125 - 3))\n",
    "testCaseB = [-150, 3, 125]\n",
    "print(f\"Simple distance evaluation should output 425, output: {evaluate(testCaseB)}\")\n",
    "print(f\"Mean waiting time evaluation should output 2.5, output: {evaluateWaitingAverage(testCaseB)}\")\n",
    "\n",
    "# the two prints must be the same"
   ]
  },
  {
   "cell_type": "markdown",
   "metadata": {},
   "source": [
    "### Greedy algorithm\n",
    "Let's write the greedy algorithm that looks like what must have been written by M.lehir"
   ]
  },
  {
   "cell_type": "code",
   "execution_count": 17,
   "metadata": {},
   "outputs": [],
   "source": [
    "# from: https://stackoverflow.com/questions/2566412/find-nearest-value-in-numpy-array\n",
    "def find_nearest(array, value):\n",
    "    array = np.asarray(array)\n",
    "    idx = (np.abs(array - value)).argmin()\n",
    "    return idx\n",
    "\n",
    "# way faster thanks to the use of searchsorted\n",
    "def find_nearest_sorted(array,value):\n",
    "    idx = np.searchsorted(array, value, side=\"left\")\n",
    "    if idx > 0 and (idx == len(array) or math.fabs(value - array[idx-1]) < math.fabs(value - array[idx])):\n",
    "        return idx-1\n",
    "    else:\n",
    "        return idx"
   ]
  },
  {
   "cell_type": "code",
   "execution_count": 18,
   "metadata": {},
   "outputs": [],
   "source": [
    "# this only goes to the closest house without looking further \n",
    "def greedy_baseline(houseArray):\n",
    "    # let's sort the array for optimization matter\n",
    "    houseArray = np.sort(houseArray)\n",
    "    currentPos = 0\n",
    "    result = []\n",
    "    while len(houseArray) > 0:\n",
    "        nearestIdx = find_nearest_sorted(houseArray, currentPos)\n",
    "        nearest = houseArray[nearestIdx]\n",
    "        result.append(nearest)\n",
    "        currentPos = nearest\n",
    "        houseArray = np.delete(houseArray, nearestIdx)\n",
    "        \n",
    "    return result"
   ]
  },
  {
   "cell_type": "code",
   "execution_count": 19,
   "metadata": {},
   "outputs": [
    {
     "name": "stdout",
     "output_type": "stream",
     "text": [
      "9702.996577078116\n",
      "603688.8488825541\n"
     ]
    }
   ],
   "source": [
    "#let's try this on a normal distribution\n",
    "houseArray = np.random.normal(0,1000,1000).tolist()\n",
    "\n",
    "resultArray = greedy_baseline(np.array(houseArray))\n",
    "resultDistance = evaluate(resultArray)\n",
    "resultTimesFromHousePoV = evaluateWaitingAverage(houseArray)\n",
    "print(resultDistance)\n",
    "print(resultTimesFromHousePoV)"
   ]
  },
  {
   "cell_type": "markdown",
   "metadata": {},
   "source": [
    "#### Let's try this baseline on every distribution"
   ]
  },
  {
   "cell_type": "code",
   "execution_count": 20,
   "metadata": {},
   "outputs": [
    {
     "data": {
      "text/html": [
       "<div>\n",
       "<style scoped>\n",
       "    .dataframe tbody tr th:only-of-type {\n",
       "        vertical-align: middle;\n",
       "    }\n",
       "\n",
       "    .dataframe tbody tr th {\n",
       "        vertical-align: top;\n",
       "    }\n",
       "\n",
       "    .dataframe thead th {\n",
       "        text-align: right;\n",
       "    }\n",
       "</style>\n",
       "<table border=\"1\" class=\"dataframe\">\n",
       "  <thead>\n",
       "    <tr style=\"text-align: right;\">\n",
       "      <th></th>\n",
       "      <th>distributions</th>\n",
       "    </tr>\n",
       "  </thead>\n",
       "  <tbody>\n",
       "    <tr>\n",
       "      <th>0</th>\n",
       "      <td>uniform</td>\n",
       "    </tr>\n",
       "    <tr>\n",
       "      <th>1</th>\n",
       "      <td>normal</td>\n",
       "    </tr>\n",
       "    <tr>\n",
       "      <th>2</th>\n",
       "      <td>gamma</td>\n",
       "    </tr>\n",
       "    <tr>\n",
       "      <th>3</th>\n",
       "      <td>sinewave_lowf</td>\n",
       "    </tr>\n",
       "    <tr>\n",
       "      <th>4</th>\n",
       "      <td>sinewave_highf</td>\n",
       "    </tr>\n",
       "    <tr>\n",
       "      <th>5</th>\n",
       "      <td>sinewave_mediumf</td>\n",
       "    </tr>\n",
       "  </tbody>\n",
       "</table>\n",
       "</div>"
      ],
      "text/plain": [
       "      distributions\n",
       "0           uniform\n",
       "1            normal\n",
       "2             gamma\n",
       "3     sinewave_lowf\n",
       "4    sinewave_highf\n",
       "5  sinewave_mediumf"
      ]
     },
     "execution_count": 20,
     "metadata": {},
     "output_type": "execute_result"
    }
   ],
   "source": [
    "# creating a dataframe to hold the results\n",
    "resultDf = pd.DataFrame(({\"distributions\": houseDf.columns}))\n",
    "resultDf.set_index(\"distributions\")\n",
    "resultDf"
   ]
  },
  {
   "cell_type": "code",
   "execution_count": 21,
   "metadata": {},
   "outputs": [
    {
     "data": {
      "text/html": [
       "<div>\n",
       "<style scoped>\n",
       "    .dataframe tbody tr th:only-of-type {\n",
       "        vertical-align: middle;\n",
       "    }\n",
       "\n",
       "    .dataframe tbody tr th {\n",
       "        vertical-align: top;\n",
       "    }\n",
       "\n",
       "    .dataframe thead th {\n",
       "        text-align: right;\n",
       "    }\n",
       "</style>\n",
       "<table border=\"1\" class=\"dataframe\">\n",
       "  <thead>\n",
       "    <tr style=\"text-align: right;\">\n",
       "      <th></th>\n",
       "      <th>distributions</th>\n",
       "      <th>base_distance</th>\n",
       "      <th>base_waitingMean</th>\n",
       "    </tr>\n",
       "  </thead>\n",
       "  <tbody>\n",
       "    <tr>\n",
       "      <th>0</th>\n",
       "      <td>uniform</td>\n",
       "      <td>299.321272</td>\n",
       "      <td>152.359828</td>\n",
       "    </tr>\n",
       "    <tr>\n",
       "      <th>1</th>\n",
       "      <td>normal</td>\n",
       "      <td>10068.799615</td>\n",
       "      <td>4298.346398</td>\n",
       "    </tr>\n",
       "    <tr>\n",
       "      <th>2</th>\n",
       "      <td>gamma</td>\n",
       "      <td>13.673167</td>\n",
       "      <td>5.092112</td>\n",
       "    </tr>\n",
       "    <tr>\n",
       "      <th>3</th>\n",
       "      <td>sinewave_lowf</td>\n",
       "      <td>100.000000</td>\n",
       "      <td>63.648302</td>\n",
       "    </tr>\n",
       "    <tr>\n",
       "      <th>4</th>\n",
       "      <td>sinewave_highf</td>\n",
       "      <td>299.999629</td>\n",
       "      <td>163.398139</td>\n",
       "    </tr>\n",
       "    <tr>\n",
       "      <th>5</th>\n",
       "      <td>sinewave_mediumf</td>\n",
       "      <td>299.999629</td>\n",
       "      <td>163.398139</td>\n",
       "    </tr>\n",
       "  </tbody>\n",
       "</table>\n",
       "</div>"
      ],
      "text/plain": [
       "      distributions  base_distance  base_waitingMean\n",
       "0           uniform     299.321272        152.359828\n",
       "1            normal   10068.799615       4298.346398\n",
       "2             gamma      13.673167          5.092112\n",
       "3     sinewave_lowf     100.000000         63.648302\n",
       "4    sinewave_highf     299.999629        163.398139\n",
       "5  sinewave_mediumf     299.999629        163.398139"
      ]
     },
     "execution_count": 21,
     "metadata": {},
     "output_type": "execute_result"
    }
   ],
   "source": [
    "resultDf['base_distance'] = [evaluate(greedy_baseline(np.array(houseDf[column]))) for column in houseDf]\n",
    "resultDf['base_waitingMean'] = [evaluateWaitingAverage(greedy_baseline(np.array(houseDf[column]))) for column in houseDf]\n",
    "\n",
    "\n",
    "resultDf"
   ]
  },
  {
   "cell_type": "markdown",
   "metadata": {},
   "source": [
    "### The naive solution without optimization\n",
    "Let's try to code the solution without worrying about the optimization, it's gonna lead to an exponential solution but it is going to be the base of the reflexion\n"
   ]
  },
  {
   "cell_type": "code",
   "execution_count": 22,
   "metadata": {},
   "outputs": [],
   "source": [
    "incr = 0"
   ]
  },
  {
   "cell_type": "code",
   "execution_count": 23,
   "metadata": {},
   "outputs": [],
   "source": [
    "# we need a very short list as it's gonna be NP\n",
    "simpleHouseList = [-5, 2, 3, 14, 15, -100, 17, 18]\n",
    "\n",
    "def naive_findShortestPathMinizingWait(houseList, currentDistance = 0, currentPos = 0, currentAvg = 0, depth = 1):\n",
    "    if len(houseList) == 0:\n",
    "        return (currentDistance, currentAvg, [currentPos])\n",
    "    global incr\n",
    "\n",
    "    incr = incr + 1\n",
    "    bestDistance = None\n",
    "    bestPath = [currentPos]\n",
    "    \n",
    "    for house in houseList:    \n",
    "        # variable preparations\n",
    "        newHouseList = [h for h in houseList if h is not house]\n",
    "        tmpPos = house\n",
    "        tmpDistance = currentDistance + abs(tmpPos - currentPos)\n",
    "        tmpAvg = currentAvg + (tmpDistance - currentAvg) / depth\n",
    "        \n",
    "        # recursion\n",
    "        (newDistance, newAvg, newPath) = naive_findShortestPathMinizingWait(newHouseList, tmpDistance, house, tmpAvg, depth + 1)\n",
    "        \n",
    "        if bestDistance == None or newDistance < bestDistance:\n",
    "            bestDistance = newDistance\n",
    "            bestAvg = newAvg\n",
    "            bestPath = [currentPos] + newPath\n",
    "    return (bestDistance, bestAvg, bestPath)\n",
    "    "
   ]
  },
  {
   "cell_type": "code",
   "execution_count": 24,
   "metadata": {},
   "outputs": [
    {
     "name": "stdout",
     "output_type": "stream",
     "text": [
      "bestDistance: 136 bestAvg: 30.75 bestPath: [0, 2, 3, 14, 15, 17, 18, -5, -100]\n",
      "distance evaluation: 136 mean waiting evaluation: 27.333333333333332\n",
      "incr happened: 69281 times\n"
     ]
    }
   ],
   "source": [
    "(bestDistance, bestAvg, bestPath) = naive_findShortestPathMinizingWait(simpleHouseList)\n",
    "\n",
    "print(f\"bestDistance: {bestDistance} bestAvg: {bestAvg} bestPath: {bestPath}\")\n",
    "print(f\"distance evaluation: {evaluate(bestPath)} mean waiting evaluation: {evaluateWaitingAverage(bestPath)}\")\n",
    "print(f\"incr happened: {incr} times\")\n",
    "\n",
    "\n"
   ]
  },
  {
   "cell_type": "code",
   "execution_count": 25,
   "metadata": {},
   "outputs": [
    {
     "data": {
      "text/plain": [
       "2.5"
      ]
     },
     "execution_count": 25,
     "metadata": {},
     "output_type": "execute_result"
    }
   ],
   "source": [
    "(0 + 1 + 2 + 3 + 4 + 5) / 6"
   ]
  },
  {
   "cell_type": "code",
   "execution_count": 26,
   "metadata": {},
   "outputs": [
    {
     "name": "stdout",
     "output_type": "stream",
     "text": [
      "2.5\n"
     ]
    }
   ],
   "source": [
    "# this is just a test to how to compute the avg \"online\"\n",
    "mean = 0\n",
    "for number in range(6):\n",
    "    mean = mean + (number - mean) / (number + 1)\n",
    "print(mean)"
   ]
  },
  {
   "cell_type": "markdown",
   "metadata": {},
   "source": [
    "#### Conclusion time: What can we deduce of this experiment ?\n",
    "This is clearly impossible with a big n. the simpleHouseList takes around 68k tests for only 8 elements.\n",
    "So let's find a way to reduce the number of operations while keeping an acceptable heuristic"
   ]
  },
  {
   "cell_type": "markdown",
   "metadata": {},
   "source": [
    "## Heuristics"
   ]
  },
  {
   "cell_type": "markdown",
   "metadata": {},
   "source": [
    "First thought: it might be possible to develop an A* like algorithm that performs a research only on a subgraph."
   ]
  },
  {
   "cell_type": "code",
   "execution_count": 27,
   "metadata": {},
   "outputs": [],
   "source": [
    "import collections\n",
    "from queue import PriorityQueue"
   ]
  },
  {
   "cell_type": "code",
   "execution_count": 28,
   "metadata": {},
   "outputs": [],
   "source": [
    "HouseNode = collections.namedtuple('houseNode', ['idx', 'value', 'cost'])"
   ]
  },
  {
   "cell_type": "code",
   "execution_count": 36,
   "metadata": {},
   "outputs": [
    {
     "name": "stdout",
     "output_type": "stream",
     "text": [
      "gscore: [inf inf inf inf inf inf  0. inf inf inf inf inf inf]\n",
      "gscore: [inf inf inf inf inf inf inf inf inf inf inf inf inf]\n"
     ]
    }
   ],
   "source": [
    "# algo inspired by: https://en.wikipedia.org/wiki/A*_search_algorithm\n",
    "def _prep_for_astarlike(houseList):\n",
    "    houseList.append(0)\n",
    "    houseArray = np.sort(houseList)\n",
    "    houseNodes = []\n",
    "    \n",
    "    start = None\n",
    "    for i in range(len(houseArray)):\n",
    "        if houseArray[i] == 0:\n",
    "            start = HouseNode(idx=i, value=houseArray[i], cost=0)\n",
    "        houseNodes.append(HouseNode(idx=i, value=houseArray[i], cost=0))\n",
    "    \n",
    "    if start is None:\n",
    "        print(\"something went wrong\")\n",
    "        return\n",
    "    \n",
    "    # The set of discovered nodes that may need to be (re-)expanded.\n",
    "    # Initially, only the start node is known.\n",
    "    # This is usually implemented as a min-heap or priority queue rather than a hash-set.\n",
    "    openSet = PriorityQueue()\n",
    "    openSet.append(0, start)\n",
    "    \n",
    "    # For node n, cameFrom[n] is the node immediately preceding it on the cheapest path from start\n",
    "    # to n currently known.    \n",
    "    cameFrom = dict()\n",
    "    \n",
    "    # For node n, gScore[n] is the cost of the cheapest path from start to n currently known.\n",
    "    gscore = np.full(len(houseArray), np.inf)\n",
    "    gscore[start.idx] = 0\n",
    "    print(f\"gscore: {gscore}\")\n",
    "    \n",
    "    # For node n, fScore[n] := gScore[n] + h(n). fScore[n] represents our current best guess as to\n",
    "    #  how short a path from start to finish can be if it goes through n.\n",
    "    fscore = np.full(len(houseArray), np.inf)\n",
    "    fscore[start.idx] = 0\n",
    "    print(f\"gscore: {fscore}\")\n",
    "    \n",
    "    while openSet.qsize() > 0:\n",
    "        current = openSet.get()\n",
    "        \n",
    "        # for each neighbour of current\n",
    "        for neighborIdx in range(len(houseArray)):\n",
    "            if neighborIdx == current.idx:\n",
    "                continue\n",
    "            \n",
    "            # current distance + new distance\n",
    "            tentative_gscore = gscore[current.idx] + abs(houseArray[neighborIdx] - houseArray[current.idx])\n",
    "            if tentative_gscore < gscore[neighborIdx]:\n",
    "                cameFrom[neighborIdx] = current.idx\n",
    "                gscore[neighborIdx] = tentative_gscore\n",
    "                fscore[neighborIdx] = tentative_gscore + h\n",
    "    \n",
    "_prep_for_astarlike(simpleHouseList)"
   ]
  },
  {
   "cell_type": "code",
   "execution_count": null,
   "metadata": {},
   "outputs": [],
   "source": []
  },
  {
   "cell_type": "code",
   "execution_count": 67,
   "metadata": {},
   "outputs": [
    {
     "name": "stdout",
     "output_type": "stream",
     "text": [
      "node: 0 len: 0\n"
     ]
    }
   ],
   "source": [
    "astarlike_findShortestPathMinizingWait(simpleHouseList)"
   ]
  },
  {
   "cell_type": "code",
   "execution_count": null,
   "metadata": {},
   "outputs": [],
   "source": []
  },
  {
   "cell_type": "code",
   "execution_count": null,
   "metadata": {},
   "outputs": [],
   "source": []
  },
  {
   "cell_type": "code",
   "execution_count": null,
   "metadata": {},
   "outputs": [],
   "source": []
  },
  {
   "cell_type": "code",
   "execution_count": null,
   "metadata": {},
   "outputs": [],
   "source": []
  },
  {
   "cell_type": "code",
   "execution_count": null,
   "metadata": {},
   "outputs": [],
   "source": []
  },
  {
   "cell_type": "code",
   "execution_count": null,
   "metadata": {},
   "outputs": [],
   "source": []
  },
  {
   "cell_type": "code",
   "execution_count": null,
   "metadata": {},
   "outputs": [],
   "source": []
  },
  {
   "cell_type": "code",
   "execution_count": null,
   "metadata": {},
   "outputs": [],
   "source": []
  },
  {
   "cell_type": "code",
   "execution_count": null,
   "metadata": {},
   "outputs": [],
   "source": []
  },
  {
   "cell_type": "code",
   "execution_count": null,
   "metadata": {},
   "outputs": [],
   "source": []
  },
  {
   "cell_type": "code",
   "execution_count": null,
   "metadata": {},
   "outputs": [],
   "source": []
  },
  {
   "cell_type": "code",
   "execution_count": null,
   "metadata": {},
   "outputs": [],
   "source": []
  },
  {
   "cell_type": "code",
   "execution_count": null,
   "metadata": {},
   "outputs": [],
   "source": []
  },
  {
   "cell_type": "code",
   "execution_count": null,
   "metadata": {},
   "outputs": [],
   "source": []
  },
  {
   "cell_type": "code",
   "execution_count": null,
   "metadata": {},
   "outputs": [],
   "source": []
  }
 ],
 "metadata": {
  "kernelspec": {
   "display_name": "Python 3",
   "language": "python",
   "name": "python3"
  },
  "language_info": {
   "codemirror_mode": {
    "name": "ipython",
    "version": 3
   },
   "file_extension": ".py",
   "mimetype": "text/x-python",
   "name": "python",
   "nbconvert_exporter": "python",
   "pygments_lexer": "ipython3",
   "version": "3.7.4"
  }
 },
 "nbformat": 4,
 "nbformat_minor": 4
}
